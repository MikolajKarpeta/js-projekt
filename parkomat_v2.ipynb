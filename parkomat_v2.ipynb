{
  "nbformat": 4,
  "nbformat_minor": 0,
  "metadata": {
    "colab": {
      "name": "parkomat.ipynb",
      "provenance": []
    },
    "kernelspec": {
      "name": "python3",
      "display_name": "Python 3"
    },
    "language_info": {
      "name": "python"
    }
  },
  "cells": [
    {
      "cell_type": "code",
      "metadata": {
        "id": "GCP9lI1BjVav",
        "colab": {
          "base_uri": "https://localhost:8080/"
        },
        "outputId": "3d1a29e5-36f6-4e62-ab73-969378f25306"
      },
      "source": [
        "from decimal import *\n",
        "from datetime import *\n",
        "import time\n",
        "import datetime\n",
        "weekDays = (\"Monday\",\"Tuesday\",\"Wednesday\",\"Thursday\",\"Friday\",\"Saturday\",\"Sunday\")\n",
        "class BadNominalException(Exception):\n",
        "    def __init__(self, value):\n",
        "        self.value = value\n",
        "    def __str__(self):\n",
        "        return repr(self.value) \n",
        "\n",
        "class Money():\n",
        "    \n",
        "    def __init__(self, val):\n",
        "        val = Decimal(float(val)).quantize(Decimal('.01'), rounding = ROUND_DOWN)\n",
        "        allowed = list(map(Decimal, ['0.01', '0.02', '0.05',\\\n",
        "         '0.1', '0.2', '0.5', '1', '2', '5', '10', '20', '50']))\n",
        "        if val in allowed:\n",
        "            self._val = val\n",
        "        else:\n",
        "            raise BadNominalException(val)\n",
        "        \n",
        "    def get_val(self):\n",
        "        return self._val\n",
        "    \n",
        "\n",
        "class ParkingMeter():\n",
        "    \n",
        "    def __init__(self):\n",
        "        self._moneycount = dict.fromkeys(list(map(Decimal, ['0.01', '0.02', '0.05',\\\n",
        "         '0.1', '0.2', '0.5', '1', '2', '5'])), 0)\n",
        "        self._moneysum = 0\n",
        "\n",
        "    def add(self, coin):\n",
        "        if not isinstance(coin, Money):\n",
        "            print(\"zly nominal\")\n",
        "            return\n",
        "        if coin.get_val() not in (10, 20, 50):\n",
        "            if self._moneycount[coin.get_val()] == 4:\n",
        "                print(\"Magazyn monet tego nominalu jest pelny\")\n",
        "                return\n",
        "            else:\n",
        "                self._moneycount[coin.get_val()] += 1\n",
        "        self._moneysum += coin.get_val()\n",
        "        print(\"Dodano\", coin.get_val(), \"kredytu\")\n",
        "    \n",
        "    def get_bal(self):\n",
        "        return self._moneysum\n",
        "\n",
        "\n",
        "\n",
        "    def bilet_dlugosc(self):\n",
        "      #ilosc_minut = 0\n",
        "      a = self.get_bal()\n",
        "      if a <= 2.0:\n",
        "        self._ilosc_sekund = a / 2 * 60 * 60\n",
        "        return int(self._ilosc_sekund)\n",
        "      elif a <= 6.0:\n",
        "        a = a - 2\n",
        "        self._ilosc_sekund = (60 + (a/4*60)) * 60\n",
        "        return int(self._ilosc_sekund)\n",
        "        \n",
        "      else:\n",
        "        a = a - 6\n",
        "        self._ilosc_sekund = (120 + (a/5*60)) * 60\n",
        "        return int(self._ilosc_sekund)\n",
        "\n",
        "    def dzien_tyg(self):\n",
        "      today = date.today()\n",
        "      self._dzien = today.weekday()\n",
        "      return self._dzien\n",
        "\n",
        "    def ile_do_20(self, data: datetime.datetime):\n",
        "        dwudziesta = data.replace(hour=20, minute=0, second=0, microsecond=0)\n",
        "        return (dwudziesta-data).total_seconds()\n",
        "\n",
        "    def next_weekday(self, d, weekday) -> datetime.datetime:\n",
        "        days_ahead = weekday - d.weekday()\n",
        "        if days_ahead <= 0:  # Target day already happened this week\n",
        "            days_ahead += 7\n",
        "        return d + datetime.timedelta(days_ahead)\n",
        "\n",
        "    def bilet_do_kiedy(self):\n",
        "        # pobierz ile sekund wart jest bilet\n",
        "        zaplacone_sekundy = self.bilet_dlugosc()\n",
        "\n",
        "        # pobierz obecną date\n",
        "        # do_kiedy = obecna_data\n",
        "        do_kiedy = datetime.datetime.now()\n",
        "\n",
        "        # w petli aktualizuj do_kiedy\n",
        "        while zaplacone_sekundy != 0:\n",
        "            ## jeśli do_kiedy jest poza okresem płatnego parkowania, przesuń na początek najbliższego okresu płatnego parkowania\n",
        "            if do_kiedy.day in [5, 6]:\n",
        "                do_kiedy = self.next_weekday(do_kiedy, 0).replace(hour=8, minute=0, second=0, microsecond=0)\n",
        "\n",
        "            ## godzina okresu płatnego\n",
        "            if do_kiedy.hour >= 20:\n",
        "                do_kiedy = self.next_weekday(do_kiedy, do_kiedy.day+1).replace(hour=8, minute=0, second=0, microsecond=0)\n",
        "                continue\n",
        "            elif do_kiedy.hour < 8:\n",
        "                do_kiedy = do_kiedy.replace(hour=8, minute=0, second=0, microsecond=0)\n",
        "\n",
        "            ## pobierz ilość sekund -> ile_do_20(do_kiedy)  -> sekundy_do_20 = ile_do_20(do_kiedy)\n",
        "            sekundy_do_20 = self.ile_do_20(do_kiedy)\n",
        "\n",
        "            ## jeśli zaplacone_sekundy <= sekundy_do_20, do_kiedy += sekundy_do_20, sekundy_do_wykorzystania -= sekundy_do_20\n",
        "            if zaplacone_sekundy >= sekundy_do_20:\n",
        "                do_kiedy += datetime.timedelta(seconds=sekundy_do_20)\n",
        "                zaplacone_sekundy -= sekundy_do_20\n",
        "            else:\n",
        "                do_kiedy += datetime.timedelta(seconds=zaplacone_sekundy)\n",
        "                zaplacone_sekundy = 0\n",
        "                # koniec petli\n",
        "        return do_kiedy    "
      ],
      "execution_count": 192,
      "outputs": [
        {
          "output_type": "stream",
          "text": [
            "2021 6 6 17 41 3\n"
          ],
          "name": "stdout"
        }
      ]
    },
    {
      "cell_type": "code",
      "metadata": {
        "id": "OqPGuT1VlYTJ",
        "colab": {
          "base_uri": "https://localhost:8080/"
        },
        "outputId": "5d35fe69-179b-4759-8857-5af349d8bc62"
      },
      "source": [
        "bankomat = ParkingMeter()\n",
        "\n",
        "print(bankomat.bilet_dlugosc())\n",
        "bankomat.add(Money(2))\n",
        "print(bankomat.bilet_dlugosc())\n",
        "bankomat.add(Money(2))\n",
        "bankomat.add(Money(2))\n",
        "print(bankomat.bilet_dlugosc())\n",
        "bankomat.add(Money(0.01))\n",
        "print(bankomat.bilet_dlugosc())\n",
        "bankomat.add(Money(0.01))\n",
        "print(bankomat.bilet_dlugosc())\n",
        "bankomat.add(Money(0.01))\n",
        "print(bankomat.bilet_dlugosc())\n",
        "bankomat.add(Money(0.01))\n",
        "print(bankomat.bilet_dlugosc())\n",
        "bankomat.add(Money(0.01))\n",
        "print(bankomat.bilet_dlugosc())\n",
        "bankomat.add(Money(0.01))\n",
        "print(bankomat.bilet_dlugosc())\n",
        "bankomat.add(Money(0.01))\n",
        "print(bankomat.bilet_dlugosc())\n",
        "bankomat.add(Money(0.01))\n",
        "print(bankomat.bilet_dlugosc())\n",
        "bankomat.add(Money(0.01))\n",
        "print(bankomat.bilet_dlugosc())\n",
        "bankomat.add(Money(0.01))\n",
        "print(bankomat.bilet_dlugosc())\n",
        "\n",
        "print(bankomat.dzien_tyg())\n",
        "print(bankomat.bilet_do_kiedy())\n"
      ],
      "execution_count": 193,
      "outputs": [
        {
          "output_type": "stream",
          "text": [
            "0\n",
            "Dodano 2.00 kredytu\n",
            "3600\n",
            "Dodano 2.00 kredytu\n",
            "Dodano 2.00 kredytu\n",
            "7200\n",
            "Dodano 0.01 kredytu\n",
            "7207\n",
            "Dodano 0.01 kredytu\n",
            "7214\n",
            "Dodano 0.01 kredytu\n",
            "7221\n",
            "Dodano 0.01 kredytu\n",
            "7228\n",
            "Magazyn monet tego nominalu jest pelny\n",
            "7228\n",
            "Magazyn monet tego nominalu jest pelny\n",
            "7228\n",
            "Magazyn monet tego nominalu jest pelny\n",
            "7228\n",
            "Magazyn monet tego nominalu jest pelny\n",
            "7228\n",
            "Magazyn monet tego nominalu jest pelny\n",
            "7228\n",
            "Magazyn monet tego nominalu jest pelny\n",
            "7228\n",
            "6\n",
            "2021-06-07 10:00:28\n"
          ],
          "name": "stdout"
        }
      ]
    },
    {
      "cell_type": "code",
      "metadata": {
        "colab": {
          "base_uri": "https://localhost:8080/"
        },
        "id": "IFGqYHStOIpD",
        "outputId": "07f00c20-adb4-476f-a3e0-a58c3c4fc9aa"
      },
      "source": [
        "import datetime\n",
        "now = datetime.datetime.now()\n",
        "print(now.year, now.month, now.day, now.hour, now.minute, now.second)\n",
        "\n",
        "a = now.year\n",
        "a = a + 4\n",
        "print(a)"
      ],
      "execution_count": null,
      "outputs": [
        {
          "output_type": "stream",
          "text": [
            "2021 6 6 17 41 3\n",
            "2025\n"
          ],
          "name": "stdout"
        }
      ]
    }
  ]
}