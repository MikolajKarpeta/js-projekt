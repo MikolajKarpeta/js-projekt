{
  "nbformat": 4,
  "nbformat_minor": 0,
  "metadata": {
    "colab": {
      "name": "parkomat.ipynb",
      "provenance": []
    },
    "kernelspec": {
      "name": "python3",
      "display_name": "Python 3"
    },
    "language_info": {
      "name": "python"
    }
  },
  "cells": [
    {
      "cell_type": "code",
      "metadata": {
        "id": "GCP9lI1BjVav"
      },
      "source": [
        "from decimal import *\n",
        "from datetime import *\n",
        "import time\n",
        "weekDays = (\"Monday\",\"Tuesday\",\"Wednesday\",\"Thursday\",\"Friday\",\"Saturday\",\"Sunday\")\n",
        "class BadNominalException(Exception):\n",
        "    def __init__(self, value):\n",
        "        self.value = value\n",
        "    def __str__(self):\n",
        "        return repr(self.value) \n",
        "\n",
        "class Money():\n",
        "    \n",
        "    def __init__(self, val):\n",
        "        val = Decimal(float(val)).quantize(Decimal('.01'), rounding = ROUND_DOWN)\n",
        "        allowed = list(map(Decimal, ['0.01', '0.02', '0.05',\\\n",
        "         '0.1', '0.2', '0.5', '1', '2', '5', '10', '20', '50']))\n",
        "        if val in allowed:\n",
        "            self._val = val\n",
        "        else:\n",
        "            raise BadNominalException(val)\n",
        "        \n",
        "    def get_val(self):\n",
        "        return self._val\n",
        "    \n",
        "\n",
        "class ParkingMeter():\n",
        "    \n",
        "    def __init__(self):\n",
        "        self._moneycount = dict.fromkeys(list(map(Decimal, ['0.01', '0.02', '0.05',\\\n",
        "         '0.1', '0.2', '0.5', '1', '2', '5'])), 0)\n",
        "        self._moneysum = 0\n",
        "        self._time = datetime.now().time()\n",
        "\n",
        "    def add(self, coin):\n",
        "        if not isinstance(coin, Money):\n",
        "            print(\"zly nominal\")\n",
        "            return\n",
        "        if coin.get_val() not in (10, 20, 50):\n",
        "            if self._moneycount[coin.get_val()] == 3:\n",
        "                print(\"Magazyn monet tego nominalu jest pelny\")\n",
        "                return\n",
        "            else:\n",
        "                self._moneycount[coin.get_val()] += 1\n",
        "        self._moneysum += coin.get_val()\n",
        "        print(\"Dodano\", coin.get_val(), \"kredytu\")\n",
        "    \n",
        "    def get_bal(self):\n",
        "        return self._moneysum\n",
        "\n",
        "    def get_time(self):\n",
        "        #self._time = datetime.now().time()\n",
        "        today = date.today()\n",
        "        dzientyg = today.weekday()\n",
        "        return weekDays[dzientyg]\n",
        "\n",
        "    def bilet(self):\n",
        "      #ilosc_minut = 0\n",
        "      a = self.get_bal()\n",
        "      if a <= 2.0:\n",
        "        self._ilosc_minut = a / 2 * 60\n",
        "        return self._ilosc_minut\n",
        "      elif a <= 6.0:\n",
        "        a = a - 2\n",
        "        self._ilosc_minut = 60 + (a/4*60)\n",
        "        return self._ilosc_minut\n",
        "        \n",
        "      else:\n",
        "        a = a - 6\n",
        "        self._ilosc_minut = 120 + (a/5*60)\n",
        "        return self._ilosc_minut\n",
        "        \n",
        "\n",
        "\n",
        "\n",
        "        \n"
      ],
      "execution_count": 88,
      "outputs": []
    },
    {
      "cell_type": "code",
      "metadata": {
        "id": "OqPGuT1VlYTJ",
        "colab": {
          "base_uri": "https://localhost:8080/"
        },
        "outputId": "dcfb5717-a5ef-49f8-ec48-950c07bcd46f"
      },
      "source": [
        "bankomat = ParkingMeter()\n",
        "print(bankomat.get_time())\n",
        "bankomat.add(Money(1))\n",
        "bankomat.add(Money(5))\n",
        "\n",
        "print(bankomat.get_bal())\n",
        "print(bankomat.get_time())\n",
        "\n",
        "print(bankomat.bilet())\n",
        "bankomat.add(Money(5))\n",
        "print(bankomat.bilet())\n",
        "bankomat.add(Money(5))\n",
        "print(bankomat.bilet())\n",
        "bankomat.add(Money(5))\n",
        "print(bankomat.bilet())\n",
        "\n",
        "\n",
        "\n",
        "  \n",
        "\n",
        "  "
      ],
      "execution_count": 91,
      "outputs": [
        {
          "output_type": "stream",
          "text": [
            "Tuesday\n",
            "Dodano 1.00 kredytu\n",
            "Dodano 5.00 kredytu\n",
            "6.00\n",
            "Tuesday\n",
            "120.00\n",
            "Dodano 5.00 kredytu\n",
            "180.00\n",
            "Dodano 5.00 kredytu\n",
            "240.00\n",
            "Magazyn monet tego nominalu jest pelny\n",
            "240.00\n"
          ],
          "name": "stdout"
        }
      ]
    },
    {
      "cell_type": "code",
      "metadata": {
        "colab": {
          "base_uri": "https://localhost:8080/"
        },
        "id": "IFGqYHStOIpD",
        "outputId": "d2d4f824-30aa-4eca-e196-f4ad155ea0a3"
      },
      "source": [
        "from datetime import date\n",
        "\n",
        "today = date.today()\n",
        "\n",
        "dzientyg = today.weekday()\n",
        "print(dzientyg)"
      ],
      "execution_count": 30,
      "outputs": [
        {
          "output_type": "stream",
          "text": [
            "1\n"
          ],
          "name": "stdout"
        }
      ]
    }
  ]
}